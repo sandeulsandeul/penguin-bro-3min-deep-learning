{
 "cells": [
  {
   "cell_type": "code",
   "execution_count": 1,
   "metadata": {},
   "outputs": [],
   "source": [
    "from torchvision import datasets,transforms,utils\n",
    "from torch.utils import data\n",
    "# torch.utils.data - 데이터셋의 표준을 정의하고 데이터셋을 불러오고 자르고 섞는 데 사용하는 모듈\n",
    "# torchvision.datasets - torch.utils.data.Dataset을 상속하는 이미지 데이터셋의 모음  (패션 아이템 데이터셋이 포함됨) \n",
    "# torchvision.transfoms- 이미지 데이터셋에 사용할 수 있는 여러가지 변환 필터를 담고 있는 모듈\n",
    "# torchvision.utils - 이미지 데이터를 저장하고 시각화하기 위한 도구가 들어 있는 모듈 \n",
    "\n",
    "import matplotlib.pyplot as plt\n",
    "import numpy as np"
   ]
  },
  {
   "cell_type": "code",
   "execution_count": 2,
   "metadata": {},
   "outputs": [],
   "source": [
    "## 이미지를 텐서로 바꾸는 코드 \n",
    "transform = transforms.Compose([\n",
    "    transforms.ToTensor()\n",
    "])\n",
    "# ToTensor로 이미지를 파이토치 텐서로 변환하고\n",
    "# Compose로 만들어 둔 이미지 변환 설정을 적용하는 데 쓰인다. "
   ]
  },
  {
   "cell_type": "code",
   "execution_count": 6,
   "metadata": {},
   "outputs": [],
   "source": [
    "## FashionMNIST 데이터셋을 가져온다.\n",
    "\n",
    "trainset = datasets.FashionMNIST(\n",
    "    root = './.data/',\n",
    "    train = True, # 학습용 트레이닝 셋 \n",
    "    download = True, \n",
    "    transform = transform\n",
    ")\n",
    "# download = True로 설정해서 \n",
    "# 자동으로 root 로 지정한 폴더 ( './.data/', ) 에 \n",
    "# 데이터셋이 없다면 자동으로 다운로드 \n",
    "\n",
    "testset = datasets.FashionMNIST(\n",
    "    root = './.data/',\n",
    "    train = False, # 성능 평가용 트레이닝 셋\n",
    "    download = True,\n",
    "    transform = transform\n",
    ")\n",
    "\n",
    "# FashionMNIST 데이터셋은 학습용 트레이닝 셋과 성능 평가용 트레이닝 셋으로 \n",
    "# 나뉘어 있어서 train 값으로 선택한다. "
   ]
  },
  {
   "cell_type": "code",
   "execution_count": 7,
   "metadata": {},
   "outputs": [],
   "source": [
    "## DataLoader 사용 \n",
    "\n",
    "#torchvision.datasets 으로 생성된 객체는 \n",
    "#파이토치 내부 클래스 'torch.utils.data.Dataset'을 상속\n",
    "#따라서, 파이토치의 'DataLoader' 즉, 데이터셋을 로딩하는 클래스에 넣어 바로 사용가능\n",
    "#DataLoader는 데이터 셋을 배치라는 작은 단위로 쪼개서\n",
    "#반복 학습 시에 데이터를 공급하는 클래스 \n",
    "\n",
    "batch_size = 16 \n",
    "# 반복마다 이미지 16개씩 읽음 \n",
    "\n",
    "train_loader = data.DataLoader (\n",
    "    dataset = trainset,\n",
    "    batch_size = batch_size\n",
    ")\n",
    "\n",
    "\n",
    "test_loader = data.DataLoader(\n",
    "    dataset = trainset,\n",
    "    batch_size = batch_size\n",
    ")\n"
   ]
  },
  {
   "cell_type": "code",
   "execution_count": 8,
   "metadata": {},
   "outputs": [],
   "source": [
    "dataiter = iter (train_loader)\n",
    "#iter()를 이용해서 반복문에서 사용할 수 있게 함\n",
    "images, labels = next(dataiter)\n",
    "#next()를 이용해 배치 1개를 가져온다. \n",
    "#images 와 labels 에는 앞서 설ㄹ정한 배치 크기 만큼 이미지 16개 +레이블 16개 "
   ]
  },
  {
   "cell_type": "code",
   "execution_count": 9,
   "metadata": {},
   "outputs": [
    {
     "data": {
      "image/png": "[encoded data removed]",
      "text/plain": [
       "<Figure size 720x504 with 1 Axes>"
      ]
     },
     "metadata": {
      "needs_background": "light"
     },
     "output_type": "display_data"
    }
   ],
   "source": [
    "img = utils.make_grid(images,padding = 0) \n",
    "#utils.make_grid()로 여러 이미지를 모아 하나의 이미지로 만들 수 있다. \n",
    "npimg = img.numpy() \n",
    "# numpy()로 matplotlib.pyplot과 호환되는 넘파이 행렬로 바꿔줌\n",
    "# img (파이토치 텐서) - >  npimg( 넘파이 행렬)\n",
    "plt.figure(figsize=(10,7))\n",
    "# plt.figure()로 이미지가 들어갈 자를 만든다. \n",
    "plt.imshow(np.transpose(npimg,(1,2,0)))\n",
    "# matplotlib.pyplot이 인식하는 차원의 순서가 다르기 떄문에 \n",
    "# np.transpose() 함수를 이요해 첫 번째(0번쟤) 차원을 맨 뒤로 보냄\n",
    "plt.show()\n",
    "# plt.imshow()  -> plt.show()\n",
    "# 함수를 순서대로 호출해서 주피터 노트북에서 이미지 확인 "
   ]
  },
  {
   "cell_type": "code",
   "execution_count": 10,
   "metadata": {},
   "outputs": [
    {
     "name": "stdout",
     "output_type": "stream",
     "text": [
      "tensor([9, 0, 0, 3, 0, 2, 7, 2, 5, 5, 0, 9, 5, 5, 7, 9])\n"
     ]
    }
   ],
   "source": [
    "print(labels)"
   ]
  },
  {
   "cell_type": "code",
   "execution_count": 11,
   "metadata": {},
   "outputs": [
    {
     "name": "stdout",
     "output_type": "stream",
     "text": [
      "Ankle boot\n",
      "T-shirt/top\n",
      "T-shirt/top\n",
      "Dress\n",
      "T-shirt/top\n",
      "Pullover\n",
      "Sneaker\n",
      "Pullover\n",
      "Sandal\n",
      "Sandal\n",
      "T-shirt/top\n",
      "Ankle boot\n",
      "Sandal\n",
      "Sandal\n",
      "Sneaker\n",
      "Ankle boot\n"
     ]
    }
   ],
   "source": [
    "CLASSES = {\n",
    "    0:'T-shirt/top',\n",
    "    1:'Trouser',\n",
    "    2:'Pullover',\n",
    "    3:'Dress',\n",
    "    4:'Coat',\n",
    "    5:'Sandal',\n",
    "    6:'Shirt',\n",
    "    7:'Sneaker',\n",
    "    8:'Bag',\n",
    "    9:'Ankle boot'\n",
    "}\n",
    "# 해석하기 쉽게 레이블을 숫자 번호에서 이름으로 \n",
    "# 딕셔너리 생성\n",
    "for label in labels:\n",
    "    index = label.item()\n",
    "    print(CLASSES[index])\n",
    "# 앞서 사용한 labels의 영문 텍스트를 출력 "
   ]
  },
  {
   "cell_type": "code",
   "execution_count": 12,
   "metadata": {},
   "outputs": [
    {
     "data": {
      "image/png": "[encoded data removed]",
      "text/plain": [
       "<Figure size 432x288 with 1 Axes>"
      ]
     },
     "metadata": {
      "needs_background": "light"
     },
     "output_type": "display_data"
    }
   ],
   "source": [
    "idx = 1\n",
    "item_img = images[idx]\n",
    "# MINST 데이터셋에서 첫번쨰 이미지를 꺼낸다.\n",
    "item_npimg = item_img.squeeze().numpy()\n",
    "# squeeze()와 numpy()를 이용해 \n",
    "# matplotlib.pyplot에서 이용이 가능한 numpy 행렬을 만든다.\n",
    "plt.title(CLASSES[labels[idx].item()])\n",
    "# 앞서 만들어둔 딕셔너리를 이용해 레이블 번호를 문자로 바꿈\n",
    "plt.imshow(item_npimg, cmap='gray')\n",
    "plt.show()\n",
    "#이미지를 확인 "
   ]
  },
  {
   "cell_type": "code",
   "execution_count": null,
   "metadata": {},
   "outputs": [],
   "source": []
  }
 ],
 "metadata": {
  "kernelspec": {
   "display_name": "Python 3",
   "language": "python",
   "name": "python3"
  },
  "language_info": {
   "codemirror_mode": {
    "name": "ipython",
    "version": 3
   },
   "file_extension": ".py",
   "mimetype": "text/x-python",
   "name": "python",
   "nbconvert_exporter": "python",
   "pygments_lexer": "ipython3",
   "version": "3.7.6"
  }
 },
 "nbformat": 4,
 "nbformat_minor": 4
}
