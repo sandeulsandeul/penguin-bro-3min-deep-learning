{
 "cells": [
  {
   "cell_type": "markdown",
   "metadata": {},
   "source": [
    "# 필수 라이브러리 임포트\n"
   ]
  },
  {
   "cell_type": "code",
   "execution_count": 27,
   "metadata": {},
   "outputs": [],
   "source": [
    "import torch \n",
    "import torchvision\n",
    "import torch.nn.functional as F\n",
    "from torch import nn,optim\n",
    "from torchvision import transforms, datasets\n"
   ]
  },
  {
   "cell_type": "markdown",
   "metadata": {},
   "source": [
    "# 모듈 임포트\n",
    "\n",
    "matplotlib.pyplot -> 이미지 추적 : 오토인코더의 생성 이미지 관찰 \n",
    "Axes3D -> 맷플롯립에서 3차원 플롯을 그림\n",
    "cm -> 데이터 포인터에 색상을 입힘\n",
    "numpy -> 행렬 변환 "
   ]
  },
  {
   "cell_type": "code",
   "execution_count": 28,
   "metadata": {},
   "outputs": [],
   "source": [
    "import matplotlib.pyplot as plt\n",
    "from mpl_toolkits.mplot3d import Axes3D\n",
    "from matplotlib import cm\n",
    "import numpy as np"
   ]
  },
  {
   "cell_type": "markdown",
   "metadata": {},
   "source": [
    "# 하이퍼파라미터 "
   ]
  },
  {
   "cell_type": "code",
   "execution_count": 29,
   "metadata": {},
   "outputs": [
    {
     "name": "stdout",
     "output_type": "stream",
     "text": [
      "Using Device:  cpu\n"
     ]
    }
   ],
   "source": [
    "EPOCH = 10 \n",
    "BATCH_SIZE = 64\n",
    "USE_CUDA = torch.cuda.is_available()\n",
    "DEVICE = torch.device(\"cuda\" if USE_CUDA else \"cpu\")\n",
    "print(\"Using Device: \", DEVICE)"
   ]
  },
  {
   "cell_type": "markdown",
   "metadata": {},
   "source": [
    "# Fasion MNIST 데이터셋 로딩 \n",
    "\n",
    "학습 데이터셋\n"
   ]
  },
  {
   "cell_type": "code",
   "execution_count": 30,
   "metadata": {},
   "outputs": [],
   "source": [
    "trainset = datasets.FashionMNIST(\n",
    "    root = './.data',\n",
    "    train = True,\n",
    "    download = True,\n",
    "    transform = transforms.ToTensor()\n",
    ")\n",
    "\n",
    "train_loader = torch.utils.data.DataLoader(\n",
    "    dataset = trainset,\n",
    "    batch_size = BATCH_SIZE,\n",
    "    shuffle = True,\n",
    "    num_workers = 2 \n",
    ")\n"
   ]
  },
  {
   "cell_type": "code",
   "execution_count": 31,
   "metadata": {},
   "outputs": [],
   "source": [
    "class Autoencoder(nn.Module):\n",
    "    def __init__ (self):\n",
    "        super(Autoencoder, self).__init__()\n",
    "        \n",
    "        self.encoder = nn.Sequential(\n",
    "            nn.Linear(28 * 28, 128),\n",
    "            nn.ReLU(),\n",
    "            nn.Linear(128, 64),\n",
    "            nn.ReLU(),\n",
    "            nn.Linear(64,12),\n",
    "            nn.ReLU(),\n",
    "            nn.Linear(12,3) \n",
    "        )\n",
    "        \n",
    "        self.decoder = nn.Sequential(\n",
    "            nn.Linear(3, 12),\n",
    "            nn.ReLU(),\n",
    "            nn.Linear(12, 64),\n",
    "            nn.ReLU(),\n",
    "            nn.Linear(64,128),\n",
    "            nn.ReLU(),\n",
    "            nn.Linear(128,28*28),\n",
    "            nn.Sigmoid()\n",
    "        )\n",
    "        \n",
    "    def forward (self, x):\n",
    "        encoded = self.encoder(x)\n",
    "        decoded = self.decoder (encoded)\n",
    "        return encoded, decoded\n",
    "    "
   ]
  },
  {
   "cell_type": "code",
   "execution_count": 32,
   "metadata": {},
   "outputs": [],
   "source": [
    "autoencoder = Autoencoder().to(DEVICE)\n",
    "optimizer = torch.optim.Adam(autoencoder.parameters(), lr =0.005)\n",
    "criterion = nn.MSELoss()"
   ]
  },
  {
   "cell_type": "markdown",
   "metadata": {},
   "source": [
    "# 노이즈 추가 \n",
    "\n",
    " torch.randn( )으로 무작위의 잡음을 만든다.\n",
    " 입력에 이미지 크기를 넣어 이미지와 같은 크기의 잡음을 만든다.\n",
    "\n",
    " noisy_img = img + noise : 이미지에 노이즈 추가 "
   ]
  },
  {
   "cell_type": "code",
   "execution_count": 33,
   "metadata": {},
   "outputs": [],
   "source": [
    "def add_noise(img):\n",
    "    noise = torch.randn(img.size())*0.2 \n",
    "    noisy_img = img + noise\n",
    "    return noisy_img \n",
    "                        "
   ]
  },
  {
   "cell_type": "code",
   "execution_count": 34,
   "metadata": {},
   "outputs": [],
   "source": [
    "def train( autoencoder, train_loader ):\n",
    "    autoencoder.train()\n",
    "    avg_loss = 0\n",
    "    for step, (x,label) in enumerate(train_loader):\n",
    "        x = add_noise(x)  # 입력에 노이즈 추가 \n",
    "        x = x.view(-1,28*28).to(DEVICE)\n",
    "        y = x.view(-1,28*28).to(DEVICE)\n",
    "        \n",
    "        label = label.to(DEVICE)\n",
    "        \n",
    "        encoded, decoded = autoencoder(x)\n",
    "        \n",
    "        loss = criterion(decoded, y)\n",
    "        optimizer.zero_grad()\n",
    "        loss.backward()\n",
    "        optimizer.step()\n",
    "        \n",
    "        avg_loss += loss.item()\n",
    "        \n",
    "    return avg_loss/len(train_loader)\n",
    "        "
   ]
  },
  {
   "cell_type": "code",
   "execution_count": 35,
   "metadata": {},
   "outputs": [
    {
     "name": "stdout",
     "output_type": "stream",
     "text": [
      "[ EPOCH 1 ] loss : 0.07877637910992225\n",
      "[ EPOCH 2 ] loss : 0.06614887568631025\n",
      "[ EPOCH 3 ] loss : 0.06479434725810597\n",
      "[ EPOCH 4 ] loss : 0.0641796330510299\n",
      "[ EPOCH 5 ] loss : 0.06381127826059296\n",
      "[ EPOCH 6 ] loss : 0.06349810584188142\n",
      "[ EPOCH 7 ] loss : 0.06332210142379885\n",
      "[ EPOCH 8 ] loss : 0.06306786554009676\n",
      "[ EPOCH 9 ] loss : 0.06290402932207721\n",
      "[ EPOCH 10 ] loss : 0.06275010144691477\n"
     ]
    }
   ],
   "source": [
    "for epoch in range(1, EPOCH+1):\n",
    "    loss = train (autoencoder, train_loader)\n",
    "    print(\"[ EPOCH {} ] loss : {}\".format(epoch,loss))\n",
    "    "
   ]
  },
  {
   "cell_type": "markdown",
   "metadata": {},
   "source": [
    "# 잡음제거 시각화 \n",
    "\n",
    "새로운 데이터를 추가한다. "
   ]
  },
  {
   "cell_type": "code",
   "execution_count": 36,
   "metadata": {},
   "outputs": [],
   "source": [
    "testset = datasets.FashionMNIST(\n",
    "    root = './.data',\n",
    "    train = False, #테스트텟을 만든다. \n",
    "    download = True,\n",
    "    transform = transforms.ToTensor()\n",
    ")"
   ]
  },
  {
   "cell_type": "code",
   "execution_count": 37,
   "metadata": {},
   "outputs": [],
   "source": [
    "sample_data = testset.test_data[0].view(-1,28*28) # 0번째 이미지를 입력으로 사용 \n",
    "sample_data = sample_data.type(torch.FloatTensor )/ 255.\n"
   ]
  },
  {
   "cell_type": "markdown",
   "metadata": {},
   "source": [
    "# 복원된 이미지 확인 "
   ]
  },
  {
   "cell_type": "code",
   "execution_count": 38,
   "metadata": {},
   "outputs": [],
   "source": [
    "original_x = sample_data[0]\n",
    "noisy_x = add_noise(original_x).to(DEVICE) # 잡음을 더하고 모델에 통과 \n",
    "_, recoverd_x = autoencoder (noisy_x) #\"_\"는 파이썬에서 특정값 무시 "
   ]
  },
  {
   "cell_type": "code",
   "execution_count": 41,
   "metadata": {},
   "outputs": [
    {
     "data": {
      "text/plain": [
       "<matplotlib.image.AxesImage at 0x1c500210d88>"
      ]
     },
     "execution_count": 41,
     "metadata": {},
     "output_type": "execute_result"
    },
    {
     "data": {
      "image/png": "[encoded data removed]",
      "text/plain": [
       "<Figure size 1080x1080 with 3 Axes>"
      ]
     },
     "metadata": {
      "needs_background": "light"
     },
     "output_type": "display_data"
    }
   ],
   "source": [
    "f, a = plt.subplots(1,3, figsize = (15,15)) #1행 3열 이미지 크기는 15*!5 \n",
    "\n",
    "# 넘파이 행렬로 변환 \n",
    "original_img = np.reshape(original_x.to(\"cpu\").data.numpy(), (28, 28))\n",
    "noisy_img = np.reshape(noisy_x.to(\"cpu\").data.numpy(),(28, 28))\n",
    "recoverd_img = np.reshape(recoverd_x.to(\"cpu\").data.numpy(),(28, 28))\n",
    "\n",
    "#원본사진\n",
    "a[0].set_title('Original') # 함수 제목 지정\n",
    "a[0].imshow(original_img, cmap = 'gray')\n",
    "\n",
    "#오염된 원본 사진\n",
    "a[1].set_title('Noisy')# 함수 제목 지정\n",
    "a[1].imshow(noisy_img, cmap = 'gray')\n",
    "\n",
    "#복원된 사진 \n",
    "a[2].set_title('Recovered')# 함수 제목 지정\n",
    "a[2].imshow(recoverd_img, cmap = 'gray')"
   ]
  },
  {
   "cell_type": "code",
   "execution_count": null,
   "metadata": {},
   "outputs": [],
   "source": []
  }
 ],
 "metadata": {
  "kernelspec": {
   "display_name": "Python 3",
   "language": "python",
   "name": "python3"
  },
  "language_info": {
   "codemirror_mode": {
    "name": "ipython",
    "version": 3
   },
   "file_extension": ".py",
   "mimetype": "text/x-python",
   "name": "python",
   "nbconvert_exporter": "python",
   "pygments_lexer": "ipython3",
   "version": "3.7.6"
  }
 },
 "nbformat": 4,
 "nbformat_minor": 4
}
