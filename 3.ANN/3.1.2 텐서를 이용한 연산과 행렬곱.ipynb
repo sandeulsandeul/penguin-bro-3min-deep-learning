{
 "cells": [
  {
   "cell_type": "code",
   "execution_count": 2,
   "metadata": {},
   "outputs": [
    {
     "name": "stdout",
     "output_type": "stream",
     "text": [
      "w size: torch.Size([5, 3])\n",
      "x size: torch.Size([3, 2])\n",
      "b size: torch.Size([5, 2])\n",
      "w: tensor([[ 0.0943,  1.6171,  0.1823],\n",
      "        [ 1.0179, -0.5981,  0.6927],\n",
      "        [-0.1491,  2.1246,  2.8196],\n",
      "        [-0.8671, -1.6394,  0.2200],\n",
      "        [-0.3093,  0.5881,  1.6496]])\n",
      "x: tensor([[1., 2.],\n",
      "        [3., 4.],\n",
      "        [5., 6.]])\n",
      "b: tensor([[-0.3520, -0.2262],\n",
      "        [-1.1810,  0.4798],\n",
      "        [ 0.2695,  0.9893],\n",
      "        [-0.5803,  1.8013],\n",
      "        [-0.5916, -1.1438]])\n"
     ]
    }
   ],
   "source": [
    "import torch\n",
    "\n",
    "w = torch.randn(5,3,dtype = torch.float)\n",
    "x = torch.tensor([[1.0,2.0],[3.0,4.0],[5.0,6.0]])\n",
    "b = torch.randn(5,2,dtype = torch.float)\n",
    "print (\"w size:\",w.size())\n",
    "print (\"x size:\",x.size())\n",
    "print (\"b size:\",b.size())\n",
    "print (\"w:\",w)\n",
    "print (\"x:\",x)\n",
    "print (\"b:\",b)"
   ]
  },
  {
   "cell_type": "code",
   "execution_count": 5,
   "metadata": {},
   "outputs": [
    {
     "name": "stdout",
     "output_type": "stream",
     "text": [
      "wx size:  torch.Size([5, 2])\n",
      "wx:  tensor([[ 5.8572,  7.7509],\n",
      "        [ 2.6871,  3.7996],\n",
      "        [20.3227, 25.1178],\n",
      "        [-4.6851, -6.9716],\n",
      "        [ 9.7028, 11.6312]])\n",
      "result size: torch.Size([5, 2])\n",
      "result :  tensor([[ 5.5052,  7.5247],\n",
      "        [ 1.5061,  4.2794],\n",
      "        [20.5922, 26.1070],\n",
      "        [-5.2654, -5.1703],\n",
      "        [ 9.1112, 10.4874]])\n"
     ]
    }
   ],
   "source": [
    "wx = torch.mm(w,x)\n",
    "print (\"wx size: \",wx.size())\n",
    "print(\"wx: \",wx)\n",
    "\n",
    "result = wx + b \n",
    "print(\"result size:\", result.size() )\n",
    "print(\"result : \", result)"
   ]
  },
  {
   "cell_type": "code",
   "execution_count": null,
   "metadata": {},
   "outputs": [],
   "source": []
  }
 ],
 "metadata": {
  "kernelspec": {
   "display_name": "Python 3",
   "language": "python",
   "name": "python3"
  },
  "language_info": {
   "codemirror_mode": {
    "name": "ipython",
    "version": 3
   },
   "file_extension": ".py",
   "mimetype": "text/x-python",
   "name": "python",
   "nbconvert_exporter": "python",
   "pygments_lexer": "ipython3",
   "version": "3.7.6"
  }
 },
 "nbformat": 4,
 "nbformat_minor": 4
}
