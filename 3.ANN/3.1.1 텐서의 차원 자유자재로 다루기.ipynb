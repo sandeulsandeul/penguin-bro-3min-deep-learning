{
 "cells": [
  {
   "cell_type": "code",
   "execution_count": 11,
   "metadata": {},
   "outputs": [
    {
     "name": "stdout",
     "output_type": "stream",
     "text": [
      "tensor([[1, 2, 3],\n",
      "        [4, 5, 6],\n",
      "        [7, 8, 9]])\n",
      "Size torch.Size([3, 3])\n",
      "Shape torch.Size([3, 3])\n",
      "랭크(차원): 2\n"
     ]
    }
   ],
   "source": [
    "import torch\n",
    "x = torch.tensor([[1,2,3],[4,5,6],[7,8,9]])\n",
    "print(x)\n",
    "print(\"Size\",x.size())\n",
    "print(\"Shape\",x.shape)\n",
    "print(\"랭크(차원):\",x.ndimension())"
   ]
  },
  {
   "cell_type": "code",
   "execution_count": 12,
   "metadata": {},
   "outputs": [
    {
     "name": "stdout",
     "output_type": "stream",
     "text": [
      "tensor([[[1, 2, 3],\n",
      "         [4, 5, 6],\n",
      "         [7, 8, 9]]])\n",
      "Size torch.Size([1, 3, 3])\n",
      "Shape torch.Size([1, 3, 3])\n",
      "랭크(차원): 3\n"
     ]
    }
   ],
   "source": [
    "x = torch.unsqueeze(x,0)\n",
    "print(x)\n",
    "print(\"Size\",x.size())\n",
    "print(\"Shape\",x.shape)\n",
    "print(\"랭크(차원):\",x.ndimension())"
   ]
  },
  {
   "cell_type": "code",
   "execution_count": 13,
   "metadata": {},
   "outputs": [
    {
     "name": "stdout",
     "output_type": "stream",
     "text": [
      "tensor([[1, 2, 3],\n",
      "        [4, 5, 6],\n",
      "        [7, 8, 9]])\n",
      "Size torch.Size([3, 3])\n",
      "Shape torch.Size([3, 3])\n",
      "랭크(차원): 2\n"
     ]
    }
   ],
   "source": [
    "x = torch.squeeze(x,0)\n",
    "print(x)\n",
    "print(\"Size\",x.size())\n",
    "print(\"Shape\",x.shape)\n",
    "print(\"랭크(차원):\",x.ndimension())"
   ]
  },
  {
   "cell_type": "code",
   "execution_count": 14,
   "metadata": {},
   "outputs": [
    {
     "name": "stdout",
     "output_type": "stream",
     "text": [
      "tensor([1, 2, 3, 4, 5, 6, 7, 8, 9])\n",
      "Size torch.Size([9])\n",
      "Shape torch.Size([9])\n",
      "랭크(차원): 1\n"
     ]
    }
   ],
   "source": [
    "x = x.view(9)\n",
    "print(x)\n",
    "print(\"Size\",x.size())\n",
    "print(\"Shape\",x.shape)\n",
    "print(\"랭크(차원):\",x.ndimension())"
   ]
  },
  {
   "cell_type": "code",
   "execution_count": 15,
   "metadata": {},
   "outputs": [
    {
     "ename": "SyntaxError",
     "evalue": "invalid syntax (<ipython-input-15-b72edafd3056>, line 1)",
     "output_type": "error",
     "traceback": [
      "\u001b[1;36m  File \u001b[1;32m\"<ipython-input-15-b72edafd3056>\"\u001b[1;36m, line \u001b[1;32m1\u001b[0m\n\u001b[1;33m    w =\u001b[0m\n\u001b[1;37m        ^\u001b[0m\n\u001b[1;31mSyntaxError\u001b[0m\u001b[1;31m:\u001b[0m invalid syntax\n"
     ]
    }
   ],
   "source": []
  },
  {
   "cell_type": "code",
   "execution_count": null,
   "metadata": {},
   "outputs": [],
   "source": []
  }
 ],
 "metadata": {
  "kernelspec": {
   "display_name": "Python 3",
   "language": "python",
   "name": "python3"
  },
  "language_info": {
   "codemirror_mode": {
    "name": "ipython",
    "version": 3
   },
   "file_extension": ".py",
   "mimetype": "text/x-python",
   "name": "python",
   "nbconvert_exporter": "python",
   "pygments_lexer": "ipython3",
   "version": "3.7.6"
  }
 },
 "nbformat": 4,
 "nbformat_minor": 4
}
